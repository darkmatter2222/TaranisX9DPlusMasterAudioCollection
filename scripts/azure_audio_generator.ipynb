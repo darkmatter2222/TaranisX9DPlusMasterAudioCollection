{
 "cells": [
  {
   "cell_type": "markdown",
   "metadata": {},
   "source": [
    "# Audio Gen\n",
    "## This script takes in the CSVs from the Origional and Kicks out a \"Rendered Directory\""
   ]
  },
  {
   "cell_type": "code",
   "execution_count": 19,
   "metadata": {},
   "outputs": [],
   "source": [
    "import os\n",
    "import requests\n",
    "import time\n",
    "from xml.etree import ElementTree\n",
    "\n",
    "class TextToSpeech(object):\n",
    "    def __init__(self, subscription_key):\n",
    "        self.subscription_key = subscription_key\n",
    "        #self.tts = input(\"What would you like to convert to speech: \")\n",
    "        self.timestr = time.strftime(\"%Y%m%d-%H%M\")\n",
    "        self.access_token = None\n",
    "\n",
    "    def get_token(self):\n",
    "        fetch_token_url = \"https://eastus.api.cognitive.microsoft.com/sts/v1.0/issueToken\"\n",
    "        headers = {\n",
    "            'Ocp-Apim-Subscription-Key': self.subscription_key\n",
    "        }\n",
    "        response = requests.post(fetch_token_url, headers=headers)\n",
    "        self.access_token = str(response.text)\n",
    "\n",
    "    def save_audio(self, target):\n",
    "        while(True):\n",
    "            base_url = 'https://eastus.tts.speech.microsoft.com/'\n",
    "            path = 'cognitiveservices/v1'\n",
    "            constructed_url = base_url + path\n",
    "            headers = {\n",
    "                'Authorization': 'Bearer ' + self.access_token,\n",
    "                'Content-Type': 'application/ssml+xml',\n",
    "                'X-Microsoft-OutputFormat': 'riff-16khz-16bit-mono-pcm',\n",
    "                'User-Agent': 'YOUR_RESOURCE_NAME'\n",
    "            }\n",
    "            xml_body = ElementTree.Element('speak', version='1.0')\n",
    "            xml_body.set('{http://www.w3.org/XML/1998/namespace}lang', 'en-us')\n",
    "            voice = ElementTree.SubElement(xml_body, 'voice')\n",
    "            voice.set('{http://www.w3.org/XML/1998/namespace}lang', 'en-US')\n",
    "            voice.set(\n",
    "                'name', 'Microsoft Server Speech Text to Speech Voice (en-US, JessaNeural)')\n",
    "            voice.text = self.tts\n",
    "            body = ElementTree.tostring(xml_body)\n",
    "\n",
    "            response = requests.post(constructed_url, headers=headers, data=body)\n",
    "            if response.status_code == 200:\n",
    "                with open(target, 'wb') as audio:\n",
    "                    audio.write(response.content)\n",
    "                    #print(\"\\nStatus code: \" + str(response.status_code) +\n",
    "                          #\"\\nYour TTS is ready for playback.\\n\")\n",
    "                    break\n",
    "            else:\n",
    "                print(\"\\nStatus code: \" + str(response.status_code))\n",
    "                time.sleep(5)\n",
    "                self.get_token()"
   ]
  },
  {
   "cell_type": "code",
   "execution_count": 20,
   "metadata": {},
   "outputs": [
    {
     "name": "stdout",
     "output_type": "stream",
     "text": [
      "           location      file text\n",
      "0  SOUNDS/en/SYSTEM  0000.wav    0\n",
      "1  SOUNDS/en/SYSTEM  0001.wav    1\n",
      "2  SOUNDS/en/SYSTEM  0002.wav    2\n",
      "3  SOUNDS/en/SYSTEM  0003.wav    3\n",
      "4  SOUNDS/en/SYSTEM  0004.wav    4\n",
      "Done\n"
     ]
    }
   ],
   "source": [
    "import pandas as pd\n",
    "import os\n",
    "import time\n",
    "\n",
    "subscription_key = open(r'C:\\Users\\ryans\\Tokens\\azure_tts.txt','r').read()\n",
    "\n",
    "data = pd.read_csv(r'..\\original\\SOUNDS\\en\\SYSTEM\\en-US-taranis.csv', sep=';')\n",
    "\n",
    "print(data.head())\n",
    "\n",
    "for index, row in data.iterrows():\n",
    "    target = f'../rendered/{row[0]}'\n",
    "    if not os.path.exists(target):\n",
    "        os.makedirs(target)\n",
    "    finaltarget = f'{target}/{row[1]}'  \n",
    "    if not os.path.isfile(finaltarget):\n",
    "        app = TextToSpeech(subscription_key)\n",
    "        app.tts = row[2]\n",
    "        app.get_token()\n",
    "        app.save_audio(finaltarget)\n",
    "        time.sleep(5)\n",
    "\n",
    "print('Done')"
   ]
  },
  {
   "cell_type": "code",
   "execution_count": 21,
   "metadata": {},
   "outputs": [
    {
     "name": "stdout",
     "output_type": "stream",
     "text": [
      "                    location        file              text\n",
      "0  SCRIPTS/TELEMETRY/iNav/en  acromd.wav         acro mode\n",
      "1  SCRIPTS/TELEMETRY/iNav/en  active.wav            active\n",
      "2  SCRIPTS/TELEMETRY/iNav/en  althld.wav     altitude hold\n",
      "3  SCRIPTS/TELEMETRY/iNav/en  anglmd.wav        angle mode\n",
      "4  SCRIPTS/TELEMETRY/iNav/en  batcrt.wav  battery critical\n",
      "Done\n"
     ]
    }
   ],
   "source": [
    "import pandas as pd\n",
    "import os\n",
    "import time\n",
    "\n",
    "subscription_key = open(r'C:\\Users\\ryans\\Tokens\\azure_tts.txt','r').read()\n",
    "\n",
    "data = pd.read_csv(r'..\\original\\SCRIPTS\\TELEMETRY\\iNav\\en\\Index.csv', sep=';')\n",
    "\n",
    "print(data.head())\n",
    "\n",
    "for index, row in data.iterrows():\n",
    "    target = f'../rendered/{row[0]}'\n",
    "    if not os.path.exists(target):\n",
    "        os.makedirs(target)\n",
    "    finaltarget = f'{target}/{row[1]}'  \n",
    "    if not os.path.isfile(finaltarget):\n",
    "        app = TextToSpeech(subscription_key)\n",
    "        app.tts = row[2]\n",
    "        app.get_token()\n",
    "        app.save_audio(finaltarget)\n",
    "        time.sleep(5)\n",
    "\n",
    "print('Done')"
   ]
  },
  {
   "cell_type": "code",
   "execution_count": null,
   "metadata": {},
   "outputs": [],
   "source": []
  }
 ],
 "metadata": {
  "kernelspec": {
   "display_name": "Python 3",
   "language": "python",
   "name": "python3"
  },
  "language_info": {
   "codemirror_mode": {
    "name": "ipython",
    "version": 3
   },
   "file_extension": ".py",
   "mimetype": "text/x-python",
   "name": "python",
   "nbconvert_exporter": "python",
   "pygments_lexer": "ipython3",
   "version": "3.7.3"
  }
 },
 "nbformat": 4,
 "nbformat_minor": 4
}
